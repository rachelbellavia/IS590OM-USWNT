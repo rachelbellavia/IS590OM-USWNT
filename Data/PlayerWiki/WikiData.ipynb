{
 "cells": [
  {
   "cell_type": "code",
   "execution_count": 3,
   "metadata": {},
   "outputs": [],
   "source": [
    "import csv\n",
    "import requests\n",
    "import time\n",
    "\n",
    "playerinfo = []\n",
    "with open(\"playerdata.csv\", \"r\", newline = \"\") as infile:\n",
    "    csvin = csv.reader(infile)\n",
    "    headers = next(csvin)\n",
    "    for line in csvin:\n",
    "        playerinfo.append(line)\n",
    "\n",
    "# print(playerinfo)\n",
    "\n",
    "firstname = headers.index(\"Firstname\")\n",
    "surname = headers.index(\"Surname\")\n",
    "\n",
    "wikiplayerurls = []\n",
    "for singleplayer in playerinfo:\n",
    "    playerfirstname = singleplayer[firstname]\n",
    "    playersurname = singleplayer[surname]\n",
    "    if playersurname == \"Campbell\" or playersurname == \"Smith\" or playersurname == \"Williams\":\n",
    "        wikiplayerurl = \"https://en.wikipedia.org/wiki/\" + playerfirstname + \"_\" + playersurname + \"_(soccer)\"\n",
    "    else:\n",
    "        wikiplayerurl = \"https://en.wikipedia.org/wiki/\" + playerfirstname + \"_\" + playersurname\n",
    "    wikiplayerurls.append(wikiplayerurl)\n",
    "\n",
    "uniquewikiurls = set(wikiplayerurls)\n",
    "\n",
    "outfile = open('wikifilenames.txt', 'w')\n",
    "for url in uniquewikiurls:\n",
    "    last_slash = url.rindex(\"/\")\n",
    "    filename = url[last_slash + 1:] + \".html\"\n",
    "    print(filename, file=outfile)\n",
    "\n",
    "outfile.close()\n",
    "\n",
    "# for fn in wikifilenames:\n",
    "#     outfile = open(fn, \"w\")\n",
    "#     result = requests.get(url)\n",
    "#     print(result.text, file=outfile)\n",
    "#     outfile.close()\n",
    "#     time.sleep(2)\n",
    "\n",
    "    "
   ]
  },
  {
   "cell_type": "code",
   "execution_count": 10,
   "metadata": {},
   "outputs": [
    {
     "name": "stdout",
     "output_type": "stream",
     "text": [
      "Adrianna_Franch.html ['/wiki/Oklahoma_State_Cowboys_and_Cowgirls']\n",
      "Tegan_McGrady.html ['/wiki/Stanford_Cardinal_women%27s_soccer']\n",
      "Ashley_Hatch.html ['/wiki/BYU_Cougars_women%27s_soccer']\n",
      "Alyssa_Naeher.html ['/wiki/Penn_State_Nittany_Lions_women%27s_soccer']\n",
      "Crystal_Dunn.html ['/wiki/North_Carolina_Tar_Heels_women%27s_soccer']\n",
      "Samantha_Mewis.html ['/wiki/UCLA_Bruins_women%27s_soccer']\n",
      "Carli_Lloyd.html ['/wiki/Rutgers_Scarlet_Knights']\n",
      "Amy_Rodriguez.html ['/wiki/USC_Trojans_women%27s_soccer']\n",
      "Sofia_Huerta.html ['/wiki/Santa_Clara_Broncos']\n",
      "Jane_Campbell_(soccer).html ['/wiki/Stanford_Cardinal_women%27s_soccer']\n",
      "Christen_Press.html ['/wiki/Stanford_Cardinal_women%27s_soccer']\n",
      "Kelley_O'Hara.html ['/wiki/Stanford_Cardinal_women%27s_soccer', '#cite_note-2']\n",
      "Tobin_Heath.html ['/wiki/North_Carolina_Tar_Heels_women%27s_soccer']\n",
      "Casey_Short.html ['/wiki/Florida_State_Seminoles_women%27s_soccer']\n",
      "Savannah_McCaskill.html ['/wiki/South_Carolina_Gamecocks_women%27s_soccer']\n",
      "Andi_Sullivan.html ['/wiki/Stanford_Cardinal_women%27s_soccer']\n",
      "Abby_Dahlkemper.html ['/wiki/UCLA_Bruins_women%27s_soccer']\n",
      "Hailie_Mace.html ['/wiki/UCLA_Bruins_women%27s_soccer']\n",
      "Rose_Lavelle.html ['/wiki/Wisconsin_Badgers']\n",
      "Julie_Ertz.html ['/wiki/Santa_Clara_Broncos']\n",
      "Ashlyn_Harris.html ['/wiki/North_Carolina_Tar_Heels_women%27s_soccer']\n",
      "Morgan_Brian.html ['/wiki/Virginia_Cavaliers_women%27s_soccer']\n",
      "Becky_Sauerbrunn.html ['/wiki/Virginia_Cavaliers']\n",
      "Haley_Hanson.html ['/wiki/Nebraska_Cornhuskers_women%27s_soccer']\n",
      "Taylor_Smith_(soccer).html ['/wiki/UCLA_Bruins_women%27s_soccer']\n",
      "Tierna_Davidson.html ['/wiki/Stanford_Cardinal_women%27s_soccer']\n",
      "Alex_Morgan.html ['/wiki/California_Golden_Bears', '#cite_note-4']\n",
      "Megan_Rapinoe.html ['/wiki/Portland_Pilots']\n",
      "Emily_Sonnett.html ['/wiki/Virginia_Cavaliers']\n",
      "Allie_Long.html ['/wiki/Penn_State_Nittany_Lions_women%27s_soccer', '/wiki/North_Carolina_Tar_Heels_women%27s_soccer']\n",
      "McCall_Zerboni.html ['/wiki/UCLA_Bruins_women%27s_soccer']\n",
      "Lynn_Williams_(soccer).html ['/wiki/Pepperdine_Waves']\n"
     ]
    }
   ],
   "source": [
    "from bs4 import BeautifulSoup\n",
    "from lxml import html\n",
    "\n",
    "infile = open('wikifilenames.txt', 'r')\n",
    "wikifilenames = infile.read().split()\n",
    "\n",
    "\n",
    "for playerwiki in wikifilenames:\n",
    "    infile = open(playerwiki, \"rb\")\n",
    "    soup = BeautifulSoup(infile, 'html.parser')\n",
    "    soupstring = str(soup)\n",
    "    testfind = soup.find('th', text=\"College career\")\n",
    "    string = str(testfind)\n",
    "    secondhalf = soupstring[soupstring.index(string):]\n",
    "    thething = secondhalf.find('Senior')\n",
    "    whatineed = secondhalf[:thething]\n",
    "    tree=html.fromstring(whatineed)\n",
    "    collegelink = tree.xpath('//a/@href')\n",
    "    print(playerwiki, collegelink)"
   ]
  },
  {
   "cell_type": "code",
   "execution_count": 35,
   "metadata": {},
   "outputs": [],
   "source": [
    "import requests\n",
    "import time\n",
    "\n",
    "outfile = open('Collegeteam/StanfordCardinal.html', 'w')\n",
    "\n",
    "result = requests.get('https://en.wikipedia.org/wiki/Stanford_Cardinal_women%27s_soccer')\n",
    "\n",
    "print(result.text, file=outfile)\n",
    "time.sleep(2)\n"
   ]
  },
  {
   "cell_type": "code",
   "execution_count": 37,
   "metadata": {},
   "outputs": [
    {
     "name": "stdout",
     "output_type": "stream",
     "text": [
      "['/wiki/Stanford_University']\n"
     ]
    }
   ],
   "source": [
    "from lxml import html\n",
    "\n",
    "infile = open('Collegeteam/StanfordCardinal.html', 'rb')\n",
    "cardinal = infile.read()\n",
    "\n",
    "tree = html.fromstring(cardinal)\n",
    "\n",
    "stanford = tree.xpath('//tr[contains(th,\"University\")]/td/a/@href')\n",
    "\n",
    "print(stanford)"
   ]
  },
  {
   "cell_type": "code",
   "execution_count": 39,
   "metadata": {},
   "outputs": [],
   "source": [
    "import requests\n",
    "import time\n",
    "\n",
    "outfile = open('Collegewiki/Stanford.html', 'w')\n",
    "result = requests.get('https://wikipedia.org/wiki/Stanford_University')\n",
    "\n",
    "print(result.text, file=outfile)\n",
    "time.sleep(2)"
   ]
  },
  {
   "cell_type": "code",
   "execution_count": null,
   "metadata": {},
   "outputs": [],
   "source": []
  }
 ],
 "metadata": {
  "kernelspec": {
   "display_name": "Python 3",
   "language": "python",
   "name": "python3"
  },
  "language_info": {
   "codemirror_mode": {
    "name": "ipython",
    "version": 3
   },
   "file_extension": ".py",
   "mimetype": "text/x-python",
   "name": "python",
   "nbconvert_exporter": "python",
   "pygments_lexer": "ipython3",
   "version": "3.6.5"
  }
 },
 "nbformat": 4,
 "nbformat_minor": 2
}
