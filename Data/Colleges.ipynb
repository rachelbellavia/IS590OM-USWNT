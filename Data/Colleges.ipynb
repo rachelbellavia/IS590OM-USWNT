{
 "cells": [
  {
   "cell_type": "code",
   "execution_count": 39,
   "metadata": {
    "scrolled": true
   },
   "outputs": [],
   "source": [
    "import csv\n",
    "import requests\n",
    "import time\n",
    "\n",
    "collegelinks = []\n",
    "with open(\"Collegewiki/collegelinks.csv\", \"r\", newline = \"\") as infile:\n",
    "    csvin = csv.reader(infile)\n",
    "    headers = next(csvin)\n",
    "    for line in csvin:\n",
    "        collegelinks.append(line)\n",
    "\n",
    "collegename = headers.index(\"College Name\")\n",
    "\n",
    "for link in collegelinks:\n",
    "    collegefilename = link[collegename]\n",
    "    \n",
    "    collegeurl = 'https://wikipedia.org/wiki' + collegefilename[collegefilename.rindex('/'):]\n",
    "        \n",
    "    outfile = open(collegefilename + '.html', 'w')\n",
    "    result = requests.get(collegeurl)\n",
    "    print(result.text, file=outfile)\n",
    "    time.sleep(2)\n",
    "    outfile.close()"
   ]
  },
  {
   "cell_type": "code",
   "execution_count": 40,
   "metadata": {},
   "outputs": [],
   "source": [
    "import csv\n",
    "from lxml import html\n",
    "\n",
    "collegelinks = []\n",
    "with open(\"Collegewiki/collegelinks.csv\", \"r\", newline = \"\") as infile:\n",
    "    csvin = csv.reader(infile)\n",
    "    headers = next(csvin)\n",
    "    for line in csvin:\n",
    "        collegelinks.append(line)\n",
    "\n",
    "collegename = headers.index(\"College Name\")\n",
    "\n",
    "allcollegedata = []\n",
    "\n",
    "for link in collegelinks:\n",
    "    collegefilename = link[collegename] + '.html'\n",
    "    \n",
    "    infile = open(collegefilename, 'rb')\n",
    "    page = infile.read()\n",
    "    tree=html.fromstring(page)    \n",
    "    \n",
    "    schoolname = tree.xpath('//h1/text()')\n",
    "    schooltype = tree.xpath('//tr[contains(th,\"Type\")]/td/a/text()')\n",
    "    students = tree.xpath('//tr[contains(th,\"Students\")]/td/text()')\n",
    "    location = tree.xpath('//tr[contains(th,\"Location\")]/td/div/a/text()')\n",
    "    \n",
    "    collegedata = []\n",
    "    collegedata.append(collegefilename)\n",
    "    collegedata.append(\",\".join(schoolname))\n",
    "    collegedata.append(\",\".join(location))\n",
    "    collegedata.append(\",\".join(schooltype))\n",
    "    collegedata.append(\",\".join(students))\n",
    "    allcollegedata.append(collegedata)\n",
    "\n",
    "headers = ['File Name', 'School Name', 'Location', 'Type', 'Enrollment']\n",
    "\n",
    "outfile = open('Collegewiki/collegedata.csv', 'w')\n",
    "csv_out = csv.writer(outfile)\n",
    "csv_out.writerow(headers)\n",
    "csv_out.writerows(allcollegedata)\n",
    "outfile.close()    \n",
    "\n"
   ]
  },
  {
   "cell_type": "code",
   "execution_count": null,
   "metadata": {},
   "outputs": [],
   "source": []
  }
 ],
 "metadata": {
  "kernelspec": {
   "display_name": "Python 3",
   "language": "python",
   "name": "python3"
  },
  "language_info": {
   "codemirror_mode": {
    "name": "ipython",
    "version": 3
   },
   "file_extension": ".py",
   "mimetype": "text/x-python",
   "name": "python",
   "nbconvert_exporter": "python",
   "pygments_lexer": "ipython3",
   "version": "3.7.2"
  }
 },
 "nbformat": 4,
 "nbformat_minor": 2
}
