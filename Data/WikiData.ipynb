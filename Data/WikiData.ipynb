{
 "cells": [
  {
   "cell_type": "code",
   "execution_count": 2,
   "metadata": {},
   "outputs": [],
   "source": [
    "import csv\n",
    "import requests\n",
    "import time\n",
    "\n",
    "playerinfo = []\n",
    "with open(\"playerdata.csv\", \"r\", newline = \"\") as infile:\n",
    "    csvin = csv.reader(infile)\n",
    "    headers = next(csvin)\n",
    "    for line in csvin:\n",
    "        playerinfo.append(line)\n",
    "\n",
    "firstname = headers.index(\"Firstname\")\n",
    "surname = headers.index(\"Surname\")\n",
    "\n",
    "wikiplayerurls = []\n",
    "for singleplayer in playerinfo:\n",
    "    playerfirstname = singleplayer[firstname]\n",
    "    playersurname = singleplayer[surname]\n",
    "    if playersurname == \"Campbell\" or playersurname == \"Smith\" or playersurname == \"Williams\":\n",
    "        wikiplayerurl = \"https://en.wikipedia.org/wiki/\" + playerfirstname + \"_\" + playersurname + \"_(soccer)\"\n",
    "    else:\n",
    "        wikiplayerurl = \"https://en.wikipedia.org/wiki/\" + playerfirstname + \"_\" + playersurname\n",
    "    wikiplayerurls.append(wikiplayerurl)\n",
    "\n",
    "uniquewikiurls = set(wikiplayerurls)\n",
    "\n",
    "outfile = open('wikifilenames.txt', 'w')\n",
    "for url in uniquewikiurls:\n",
    "    last_slash = url.rindex(\"/\")\n",
    "    filename = url[last_slash + 1:] + \".html\"\n",
    "    print(filename, file=outfile)\n",
    "\n",
    "outfile.close()\n",
    "\n",
    "for fn in wikifilenames:\n",
    "    outfile = open(fn, \"w\")\n",
    "    result = requests.get(url)\n",
    "    print(result.text, file=outfile)\n",
    "    outfile.close()\n",
    "    time.sleep(2)\n",
    "\n",
    "    "
   ]
  },
  {
   "cell_type": "code",
   "execution_count": 20,
   "metadata": {},
   "outputs": [],
   "source": [
    "from bs4 import BeautifulSoup\n",
    "from lxml import html\n",
    "\n",
    "infile = open('wikifilenames.txt', 'r')\n",
    "wikifilenames = infile.read().split()\n",
    "\n",
    "playercollegelinks = []\n",
    "\n",
    "for playerwiki in wikifilenames:\n",
    "    playercollegelink = []\n",
    "    infile = open(playerwiki, \"rb\")\n",
    "    soup = BeautifulSoup(infile, 'html.parser')\n",
    "    soupstring = str(soup)       \n",
    "    try:\n",
    "        findcollege = soup.find('th', text=\"College career\")\n",
    "        findcollegestring = str(findcollege)\n",
    "        secondhalf = soupstring[soupstring.index(findcollegestring):]\n",
    "        findsenior = secondhalf.find('Senior')\n",
    "        whatineed = secondhalf[:findsenior]\n",
    "        tree=html.fromstring(whatineed)\n",
    "        collegelink = tree.xpath('//a/@href')\n",
    "        playercollegelink.append(playerwiki)\n",
    "        for link in collegelink:\n",
    "            playercollegelink.append(link)\n",
    "    except:\n",
    "        playercollegelink.append(playerwiki)\n",
    "        playercollegelink.append(\"NoCollege\")\n",
    "        \n",
    "    playercollegelinks.append(playercollegelink)\n",
    "\n",
    "\n",
    "import csv\n",
    "\n",
    "headers = ['Filename', 'College Team URL']\n",
    "\n",
    "outfile = open('Collegeteam/collegeteamlinks.csv', 'w')\n",
    "csv_out = csv.writer(outfile)\n",
    "csv_out.writerow(headers)\n",
    "csv_out.writerows(playercollegelinks)\n",
    "outfile.close()    \n",
    "\n",
    "        \n",
    "    "
   ]
  },
  {
   "cell_type": "code",
   "execution_count": 1,
   "metadata": {},
   "outputs": [
    {
     "name": "stdout",
     "output_type": "stream",
     "text": [
      "NoCollege\n",
      "NoCollege\n"
     ]
    }
   ],
   "source": [
    "import csv\n",
    "\n",
    "collegelinks = []\n",
    "with open('Collegeteam/collegeteamlinks.csv', 'r', newline = \"\") as infile:\n",
    "    csvin = csv.reader(infile)\n",
    "    headers = next(csvin)\n",
    "    for line in csvin:       \n",
    "        collegelinks.append(line)\n",
    "\n",
    "finalcollegelinks = []        \n",
    "for links in collegelinks:\n",
    "    actuallinks = links[1:]\n",
    "    for actuallink in actuallinks:\n",
    "        if actuallink.startswith(\"#\")==True:\n",
    "            pass\n",
    "        elif actuallink==\"NoCollege\":\n",
    "            print(\"NoCollege\")\n",
    "        else:\n",
    "            finalcollegelinks.append(actuallink[actuallink.rindex('/'):]) # Only grabs the end of the link for the filename, removing the /wiki portion\n",
    "\n",
    "uniquecollegelinks = set(finalcollegelinks)            \n",
    "outfile = open(\"Collegeteam/collegeteamurls.txt\", \"w\")\n",
    "for link in uniquecollegelinks:\n",
    "     print(link, file=outfile)\n",
    "outfile.close()\n",
    "\n"
   ]
  },
  {
   "cell_type": "code",
   "execution_count": 12,
   "metadata": {},
   "outputs": [],
   "source": [
    "\n"
   ]
  },
  {
   "cell_type": "code",
   "execution_count": null,
   "metadata": {},
   "outputs": [],
   "source": []
  },
  {
   "cell_type": "code",
   "execution_count": 39,
   "metadata": {},
   "outputs": [],
   "source": []
  },
  {
   "cell_type": "code",
   "execution_count": null,
   "metadata": {},
   "outputs": [],
   "source": []
  }
 ],
 "metadata": {
  "kernelspec": {
   "display_name": "Python 3",
   "language": "python",
   "name": "python3"
  },
  "language_info": {
   "codemirror_mode": {
    "name": "ipython",
    "version": 3
   },
   "file_extension": ".py",
   "mimetype": "text/x-python",
   "name": "python",
   "nbconvert_exporter": "python",
   "pygments_lexer": "ipython3",
   "version": "3.7.2"
  }
 },
 "nbformat": 4,
 "nbformat_minor": 2
}
