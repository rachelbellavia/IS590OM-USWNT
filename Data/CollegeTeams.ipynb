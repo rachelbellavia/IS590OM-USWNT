{
 "cells": [
  {
   "cell_type": "code",
   "execution_count": 5,
   "metadata": {},
   "outputs": [],
   "source": [
    "import requests\n",
    "import time\n",
    "\n",
    "infile = open(\"Collegeteam/collegeteamurls.txt\", \"r\")\n",
    "\n",
    "collegelinks = infile.read().split()\n",
    "\n",
    "for link in collegelinks:\n",
    "    linkbuild = \"https://en.wikipedia.org/wiki\" + link\n",
    "        \n",
    "    outfile = open('Collegeteam' + link + '.html', 'w')\n",
    "    result = requests.get(linkbuild)\n",
    "    print(result.text, file=outfile)\n",
    "    time.sleep(2)\n",
    "    outfile.close()"
   ]
  },
  {
   "cell_type": "code",
   "execution_count": 5,
   "metadata": {},
   "outputs": [],
   "source": [
    "from lxml import html\n",
    "\n",
    "infile = open(\"Collegeteam/collegeteamurls.txt\", \"r\")\n",
    "\n",
    "collegelinks = infile.read().split()\n",
    "\n",
    "filenames = []\n",
    "for link in collegelinks:\n",
    "    filename = 'Collegeteam' + link + '.html'\n",
    "    filenames.append(filename)\n",
    "\n",
    "collegenames = []    \n",
    "for teamfile in filenames:\n",
    "    infile = open(teamfile, 'rb')\n",
    "    page = infile.read()\n",
    "    tree=html.fromstring(page)    \n",
    "    college = tree.xpath('//tr[contains(th,\"University\")]/td/a/@href')\n",
    "    \n",
    "    collegename = []\n",
    "    collegename.append(teamfile)\n",
    "    for link in college:\n",
    "        collegelink = 'Collegewiki' + link[link.rindex('/'):] # Removes the /wiki from the beginning of the url\n",
    "        collegename.append(collegelink)\n",
    "    collegenames.append(collegename)\n",
    "\n",
    "\n",
    "import csv\n",
    "\n",
    "headers = ['College Team Filename', 'College Name']\n",
    "outfile = open('Collegewiki/collegelinks.csv', 'w')\n",
    "csv_out = csv.writer(outfile)\n",
    "csv_out.writerow(headers)\n",
    "csv_out.writerows(collegenames)\n",
    "outfile.close()    \n",
    "\n"
   ]
  },
  {
   "cell_type": "code",
   "execution_count": null,
   "metadata": {},
   "outputs": [],
   "source": []
  }
 ],
 "metadata": {
  "kernelspec": {
   "display_name": "Python 3",
   "language": "python",
   "name": "python3"
  },
  "language_info": {
   "codemirror_mode": {
    "name": "ipython",
    "version": 3
   },
   "file_extension": ".py",
   "mimetype": "text/x-python",
   "name": "python",
   "nbconvert_exporter": "python",
   "pygments_lexer": "ipython3",
   "version": "3.7.2"
  }
 },
 "nbformat": 4,
 "nbformat_minor": 2
}
