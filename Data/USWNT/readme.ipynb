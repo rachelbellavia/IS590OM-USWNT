{
 "cells": [
  {
   "cell_type": "markdown",
   "metadata": {},
   "source": [
    "# USWNT Player Data Project\n",
    "## Rachel Bellavia\n",
    "\n",
    "This data project was created as part of the Fall 2018 Foundations of Information Processing course at the iSchool at UIUC.\n",
    "\n",
    "## About\n",
    "\n",
    "This program reads in player information from the U.S. Soccer Women's National Team website (https://www.ussoccer.com/womens-national-team/) and generates a csv file containing biographical information about each player.\n",
    "\n",
    "The biographical information includes: Name, Position, Birthdate, Height, Hometown, and Club Team.\n",
    "\n",
    "## How to Run\n",
    "\n",
    "This program was written in Jupyter, using separate cells to ensure offline data processing can be done without submitting requests to websites. Run each portion of the program in order to completely process data.\n",
    "\n",
    "Python written for Python 3."
   ]
  }
 ],
 "metadata": {
  "kernelspec": {
   "display_name": "Python 3",
   "language": "python",
   "name": "python3"
  },
  "language_info": {
   "codemirror_mode": {
    "name": "ipython",
    "version": 3
   },
   "file_extension": ".py",
   "mimetype": "text/x-python",
   "name": "python",
   "nbconvert_exporter": "python",
   "pygments_lexer": "ipython3",
   "version": "3.6.5"
  }
 },
 "nbformat": 4,
 "nbformat_minor": 2
}
