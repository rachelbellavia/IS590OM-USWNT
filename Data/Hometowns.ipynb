{
 "cells": [
  {
   "cell_type": "code",
   "execution_count": 1,
   "metadata": {},
   "outputs": [],
   "source": [
    "import csv\n",
    "import requests\n",
    "import time\n",
    "\n",
    "hometownlinks = []\n",
    "with open(\"Hometown/playerhometowns.csv\", \"r\", newline = \"\") as infile:\n",
    "    csvin = csv.reader(infile)\n",
    "    headers = next(csvin)\n",
    "    for line in csvin:\n",
    "        hometownlinks.append(line)\n",
    "\n",
    "hometownwiki = headers.index(\"Hometown\")\n",
    "\n",
    "for link in hometownlinks:\n",
    "    hometownname = link[hometownwiki]\n",
    "    \n",
    "    hometownurl = 'https://wikipedia.org' + hometownname\n",
    "    \n",
    "    hometownfilename = 'Hometown' + hometownname[hometownname.rindex('/'):] + '.html'\n",
    "        \n",
    "    outfile = open(hometownfilename, 'w')\n",
    "    result = requests.get(hometownurl)\n",
    "    print(result.text, file=outfile)\n",
    "    time.sleep(2)\n",
    "    outfile.close()"
   ]
  },
  {
   "cell_type": "code",
   "execution_count": 7,
   "metadata": {},
   "outputs": [
    {
     "name": "stdout",
     "output_type": "stream",
     "text": [
      "['Weymouth, Massachusetts']\n",
      "['Lake Forest, California']\n",
      "['Highlands Ranch, Colorado']\n",
      "['Huntington, New York']\n",
      "['Basking Ridge, New Jersey']\n",
      "['Kennesaw, Georgia']\n",
      "['Honolulu']\n",
      "['Ventura, California']\n",
      "['Golden, Colorado']\n",
      "['Camarillo, California']\n",
      "['San Dimas, California']\n",
      "['Redding, California']\n",
      "['New Hyde Park, New York']\n",
      "['Overland Park, Kansas']\n",
      "['Marietta, Georgia']\n",
      "['Fort Worth, Texas']\n",
      "['Delran Township, New Jersey']\n",
      "['Chapin, South Carolina']\n",
      "['St. Louis']\n",
      "['Lancaster, Pennsylvania']\n",
      "['Los Angeles']\n",
      "['Salina, Kansas']\n",
      "['Cincinnati']\n",
      "['Menlo Park, California']\n",
      "['Bridgeport, Connecticut']\n",
      "['Satellite Beach, Florida']\n",
      "['St. Simons, Georgia']\n",
      "['Mesa, Arizona']\n",
      "['San Jose, California']\n",
      "['Fayetteville, Georgia']\n",
      "['Fresno, California']\n",
      "['San Dimas, California']\n",
      "['Naperville, Illinois']\n",
      "['Birmingham, Alabama']\n",
      "['Boise, Idaho']\n"
     ]
    }
   ],
   "source": [
    "import csv\n",
    "from lxml import html\n",
    "\n",
    "hometownlinks = []\n",
    "with open(\"Hometown/playerhometowns.csv\", \"r\", newline = \"\") as infile:\n",
    "    csvin = csv.reader(infile)\n",
    "    headers = next(csvin)\n",
    "    for line in csvin:\n",
    "        hometownlinks.append(line)\n",
    "\n",
    "hometownwiki = headers.index(\"Hometown\")\n",
    "\n",
    "for link in hometownlinks:\n",
    "    hometownname = link[hometownwiki]\n",
    "        \n",
    "    hometownfilename = 'Hometown' + hometownname[hometownname.rindex('/'):] + '.html'\n",
    "    \n",
    "    infile = open(hometownfilename, 'rb')\n",
    "    page = infile.read()\n",
    "    tree=html.fromstring(page)\n",
    "    \n",
    "    name = tree.xpath('//h1/text()')\n",
    "\n",
    "    print(name)"
   ]
  },
  {
   "cell_type": "code",
   "execution_count": null,
   "metadata": {},
   "outputs": [],
   "source": []
  }
 ],
 "metadata": {
  "kernelspec": {
   "display_name": "Python 3",
   "language": "python",
   "name": "python3"
  },
  "language_info": {
   "codemirror_mode": {
    "name": "ipython",
    "version": 3
   },
   "file_extension": ".py",
   "mimetype": "text/x-python",
   "name": "python",
   "nbconvert_exporter": "python",
   "pygments_lexer": "ipython3",
   "version": "3.7.2"
  }
 },
 "nbformat": 4,
 "nbformat_minor": 2
}
