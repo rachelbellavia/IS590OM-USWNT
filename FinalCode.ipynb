{
 "cells": [
  {
   "cell_type": "markdown",
   "metadata": {},
   "source": [
    "# Final Code"
   ]
  },
  {
   "cell_type": "markdown",
   "metadata": {},
   "source": [
    "## Dictionaries to associate state, division, and region codes with states, according to the abbreviations used by US Soccer."
   ]
  },
  {
   "cell_type": "markdown",
   "metadata": {},
   "source": [
    "Below is a manually created dictionary to turn US Soccer state abbreviations into the proper name for the state."
   ]
  },
  {
   "cell_type": "code",
   "execution_count": 7,
   "metadata": {},
   "outputs": [],
   "source": [
    "stateabbreviations = {\n",
    "    'Ala.': 'Alabama',\n",
    "    'Alaska': 'Alaska',\n",
    "    'Ariz.': 'Arizona',\n",
    "    'Ark.': 'Arkansas',\n",
    "    'Calif.': 'California',\n",
    "    'Colo.': 'Colorado',\n",
    "    'Conn.': 'Connecticut',\n",
    "    'Del.': 'Delaware',\n",
    "    'D.C.': 'District of Columbia',\n",
    "    'Fla.': 'Florida',\n",
    "    'Ga.': 'Georgia',\n",
    "    'Hawaii': 'Hawaii',\n",
    "    'Idaho': 'Idaho',\n",
    "    'Ill.': 'Illinois',\n",
    "    'Ind.': 'Indiana',\n",
    "    'Iowa': 'Iowa',\n",
    "    'Kan.': 'Kansas',\n",
    "    'Ky.': 'Kentucky',\n",
    "    'La.': 'Louisiana',\n",
    "    'Maine': 'Maine',\n",
    "    'Md.': 'Maryland',\n",
    "    'Mass.': 'Massachusetts',\n",
    "    'Mich.': 'Michigan',\n",
    "    'Minn.': 'Minnesota',\n",
    "    'Miss.': 'Mississippi',\n",
    "    'Mo.': 'Missouri',\n",
    "    'Mont.': 'Montana',\n",
    "    'Neb.': 'Nebraska',\n",
    "    'Nev.': 'Nevada',\n",
    "    'N.H.': 'New Hampshire',\n",
    "    'N.J.': 'New Jersey',\n",
    "    'N.M.': 'New Mexico',\n",
    "    'N.Y.': 'New York',\n",
    "    'N.C.': 'North Carolina',\n",
    "    'N.D.': 'North Dakota',\n",
    "    'Ohio': 'Ohio',\n",
    "    'Okla.': 'Oklahoma',\n",
    "    'Ore.': 'Oregon',\n",
    "    'Pa.': 'Pennsylvania',\n",
    "    'R.I.': 'Rhode Island',\n",
    "    'S.C.': 'South Carolina',\n",
    "    'S.D.': 'South Dakota',\n",
    "    'Tenn.': 'Tennessee',\n",
    "    'Texas': 'Texas',\n",
    "    'Utah': 'Utah',\n",
    "    'Vt.': 'Vermont',\n",
    "    'Va.': 'Virginia',\n",
    "    'Wash.': 'Washington',\n",
    "    'W.V.': 'West Virginia',\n",
    "    'Wis.': 'Wisconsin',\n",
    "    'Wyo.': 'Wyoming'   \n",
    "}  "
   ]
  },
  {
   "cell_type": "markdown",
   "metadata": {},
   "source": [
    "Next I used a csv file of census codes (geocodes.csv) to generate a dictionary that provides the state, division, and region codes for each state.\n",
    "\n",
    "Census codes file downloaded from https://www2.census.gov/programs-surveys/popest/geographies/2016/state-geocodes-v2016.xls"
   ]
  },
  {
   "cell_type": "code",
   "execution_count": 9,
   "metadata": {},
   "outputs": [],
   "source": [
    "import csv\n",
    "\n",
    "geocodes = []\n",
    "with open(\"geocodes.csv\", \"r\", newline = \"\") as infile:\n",
    "    csvin = csv.reader(infile)\n",
    "    geoheaders = next(csvin)\n",
    "    for line in csvin:\n",
    "        geocodes.append(line)\n",
    "\n",
    "name = geoheaders.index('Name')\n",
    "state = geoheaders.index('State (FIPS)')\n",
    "division = geoheaders.index('Division')\n",
    "region = geoheaders.index('\\ufeffRegion')\n",
    "\n",
    "codedict = {}\n",
    "\n",
    "for statecode in geocodes:\n",
    "    codedict[statecode[name]] = {'State': statecode[state], 'Division': statecode[division], 'Region': statecode[region]}\n",
    "    \n"
   ]
  },
  {
   "cell_type": "markdown",
   "metadata": {},
   "source": [
    "## Read in player data and locate census codes and population for the hometowns of each player.\n",
    "\n",
    "Documentation for playerdata.csv located at: \n",
    "\n",
    "Documentation for censusplace.csv located at: "
   ]
  },
  {
   "cell_type": "code",
   "execution_count": 23,
   "metadata": {},
   "outputs": [],
   "source": [
    "import csv\n",
    "\n",
    "# Read in the playerdata csv\n",
    "playerinfo = []\n",
    "with open(\"2018Data/USWNT/playerdata.csv\", \"r\", newline = \"\") as infile:\n",
    "    csvin = csv.reader(infile)\n",
    "    playerheaders = next(csvin)\n",
    "    for line in csvin:\n",
    "        playerinfo.append(line)\n",
    "\n",
    "hometown = playerheaders.index(\"Hometown\") # Index the column that contains player hometowns\n",
    "\n",
    "# Read in the census csv    \n",
    "census = []\n",
    "with open(\"2018Data/Census/censusplace.csv\", \"r\", newline = \"\", encoding = 'latin-1') as infile:\n",
    "    csvin = csv.reader(infile)\n",
    "    censusheaders = next(csvin)\n",
    "    for line in csvin:\n",
    "        census.append(line) \n",
    "\n",
    "state_code = censusheaders.index(\"Geo_STATE\")  # Index columns for state code, place name, and population\n",
    "place_name = censusheaders.index(\"Geo_NAME\")\n",
    "population = censusheaders.index(\"SE_T001_001\")\n",
    "\n",
    "\n",
    "for player in playerinfo:\n",
    "    splithometown = player[hometown].split(\",\") # Split hometown into town name and state\n",
    "    state = splithometown[1].strip()\n",
    "    playerdata_state = codedict[stateabbreviations[state]]['State']  # For each player, find the state, division, and region code for their state\n",
    "    playerdata_division = codedict[stateabbreviations[state]]['Division']\n",
    "    playerdata_region = codedict[stateabbreviations[state]]['Region']\n",
    "    \n",
    "    player.append(playerdata_state) # Add census codes for each player's state into the row of data\n",
    "    player.append(playerdata_division)\n",
    "    player.append(playerdata_region)\n",
    "\n",
    "    townname = splithometown[0].strip()\n",
    "    if townname == \"St. Simons Island\": # Exemptions for player town names that are listed differently in the census\n",
    "        townname = \"St. Simons\"\n",
    "    if townname == \"Ventura\":\n",
    "        townname = \"San Buenaventura\"\n",
    "    \n",
    "    for place in census:\n",
    "        censusstate = place[state_code]\n",
    "        censushometown = place[place_name]\n",
    "        if censushometown.startswith(townname) == True and censusstate == playerdata_state: # Searching only within the player's state, find matches to the name of the hometown, using startswith because of extraneous words at the end of the name\n",
    "            if censushometown == \"Mesa del Caballo CDP\": # Filters out a duplicate match for a hometown\n",
    "                pass\n",
    "            else:\n",
    "                player.append(place[population])\n",
    "        else:\n",
    "            pass     \n",
    "        \n",
    "playerheaders.append(\"State Code\")\n",
    "playerheaders.append(\"Division Code\")\n",
    "playerheaders.append(\"Region Code\")\n",
    "playerheaders.append(\"Hometown Population\")\n",
    "\n",
    "outfile = open('interimfile.csv', 'w')\n",
    "csv_out = csv.writer(outfile)\n",
    "csv_out.writerow(playerheaders)\n",
    "csv_out.writerows(playerinfo)\n",
    "outfile.close()"
   ]
  },
  {
   "cell_type": "markdown",
   "metadata": {},
   "source": [
    "## Read in college data and merge it into the playerdata set to create a final dataset.\n",
    "\n",
    "Note: this code is yet to come, since I have to do some editing of the process on the back end to make it possible. "
   ]
  },
  {
   "cell_type": "code",
   "execution_count": null,
   "metadata": {},
   "outputs": [],
   "source": []
  },
  {
   "cell_type": "code",
   "execution_count": null,
   "metadata": {},
   "outputs": [],
   "source": []
  }
 ],
 "metadata": {
  "kernelspec": {
   "display_name": "Python 3",
   "language": "python",
   "name": "python3"
  },
  "language_info": {
   "codemirror_mode": {
    "name": "ipython",
    "version": 3
   },
   "file_extension": ".py",
   "mimetype": "text/x-python",
   "name": "python",
   "nbconvert_exporter": "python",
   "pygments_lexer": "ipython3",
   "version": "3.7.2"
  }
 },
 "nbformat": 4,
 "nbformat_minor": 2
}
