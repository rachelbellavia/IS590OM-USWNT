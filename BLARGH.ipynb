{
 "cells": [
  {
   "cell_type": "code",
   "execution_count": 39,
   "metadata": {},
   "outputs": [],
   "source": [
    "dictionary = {\n",
    "    'Ala.': '01',\n",
    "    'Alaska': '02',\n",
    "    'Ariz.': '04',\n",
    "    'Ark.': '05',\n",
    "    'Calif.': '06',\n",
    "    'Colo.': '08',\n",
    "    'Conn.': '09',\n",
    "    'Del.': '10',\n",
    "    'D.C.': '11',\n",
    "    'Fla.': '12',\n",
    "    'Ga.': '13',\n",
    "    'Hawaii': '15',\n",
    "    'Idaho': '16',\n",
    "    'Ill.': '17',\n",
    "    'Ind.': '18',\n",
    "    'Iowa': '19',\n",
    "    'Kan.': '20',\n",
    "    'Ky.': '21',\n",
    "    'La.': '22',\n",
    "    'Maine': '23',\n",
    "    'Md.': '24',\n",
    "    'Mass.': '25',\n",
    "    'Mich.': '26',\n",
    "    'Minn.': '27',\n",
    "    'Miss.': '28',\n",
    "    'Mo.': '29',\n",
    "    'Mont.': '30',\n",
    "    'Neb.': '31',\n",
    "    'Nev.': '32',\n",
    "    'N.H.': '33',\n",
    "    'N.J.': '34',\n",
    "    'N.M.': '35',\n",
    "    'N.Y.': '36',\n",
    "    'N.C.': '37',\n",
    "    'N.D.': '38',\n",
    "    'Ohio': '39',\n",
    "    'Okla.': '40',\n",
    "    'Ore.': '41',\n",
    "    'Pa.': '42',\n",
    "    'R.I.': '44',\n",
    "    'S.C.': '45',\n",
    "    'S.D.': '46',\n",
    "    'Tenn.': '47',\n",
    "    'Texas': '48',\n",
    "    'Utah': '49',\n",
    "    'Vt.': '50',\n",
    "    'Va.': '51',\n",
    "    'Wash.': '53',\n",
    "    'W.V.': '54',\n",
    "    'Wis.': '55',\n",
    "    'Wyo.': '56'   \n",
    "}  "
   ]
  },
  {
   "cell_type": "code",
   "execution_count": 40,
   "metadata": {},
   "outputs": [
    {
     "name": "stdout",
     "output_type": "stream",
     "text": [
      "{'Ala.': {'State': '01', 'Division': '6', 'Region': '3'}, 'Alaska': {'State': '02', 'Division': '9', 'Region': '4'}, 'Ariz.': {'State': '04', 'Division': '8', 'Region': '4'}, 'Ark.': {'State': '05', 'Division': '7', 'Region': '3'}, 'Calif.': {'State': '06', 'Division': '9', 'Region': '4'}, 'Colo.': {'State': '08', 'Division': '8', 'Region': '4'}, 'Conn.': {'State': '09', 'Division': '1', 'Region': '1'}, 'Del.': {'State': '10', 'Division': '5', 'Region': '3'}, 'D.C.': {'State': '11', 'Division': '5', 'Region': '3'}, 'Fla.': {'State': '12', 'Division': '5', 'Region': '3'}, 'Ga.': {'State': '13', 'Division': '5', 'Region': '3'}, 'Hawaii': {'State': '15', 'Division': '9', 'Region': '4'}, 'Idaho': {'State': '16', 'Division': '8', 'Region': '4'}, 'Ill.': {'State': '17', 'Division': '3', 'Region': '2'}, 'Ind.': {'State': '18', 'Division': '3', 'Region': '2'}, 'Iowa': {'State': '19', 'Division': '4', 'Region': '2'}, 'Kan.': {'State': '20', 'Division': '4', 'Region': '2'}, 'Ky.': {'State': '21', 'Division': '6', 'Region': '3'}, 'La.': {'State': '22', 'Division': '7', 'Region': '3'}, 'Maine': {'State': '23', 'Division': '1', 'Region': '1'}, 'Md.': {'State': '24', 'Division': '5', 'Region': '3'}, 'Mass.': {'State': '25', 'Division': '1', 'Region': '1'}, 'Mich.': {'State': '26', 'Division': '3', 'Region': '2'}, 'Minn.': {'State': '27', 'Division': '4', 'Region': '2'}, 'Miss.': {'State': '28', 'Division': '6', 'Region': '3'}, 'Mo.': {'State': '29', 'Division': '4', 'Region': '2'}, 'Mont.': {'State': '30', 'Division': '8', 'Region': '4'}, 'Neb.': {'State': '31', 'Division': '4', 'Region': '2'}, 'Nev.': {'State': '32', 'Division': '8', 'Region': '4'}, 'N.H.': {'State': '33', 'Division': '1', 'Region': '1'}, 'N.J.': {'State': '34', 'Division': '2', 'Region': '1'}, 'N.M.': {'State': '35', 'Division': '8', 'Region': '4'}, 'N.Y.': {'State': '36', 'Division': '2', 'Region': '1'}, 'N.C.': {'State': '37', 'Division': '5', 'Region': '3'}, 'N.D.': {'State': '38', 'Division': '4', 'Region': '2'}, 'Ohio': {'State': '39', 'Division': '3', 'Region': '2'}, 'Okla.': {'State': '40', 'Division': '7', 'Region': '3'}, 'Ore.': {'State': '41', 'Division': '9', 'Region': '4'}, 'Pa.': {'State': '42', 'Division': '2', 'Region': '1'}, 'R.I.': {'State': '44', 'Division': '1', 'Region': '1'}, 'S.C.': {'State': '45', 'Division': '5', 'Region': '3'}, 'S.D.': {'State': '46', 'Division': '4', 'Region': '2'}, 'Tenn.': {'State': '47', 'Division': '6', 'Region': '3'}, 'Texas': {'State': '48', 'Division': '7', 'Region': '3'}, 'Utah': {'State': '49', 'Division': '8', 'Region': '4'}, 'Vt.': {'State': '50', 'Division': '1', 'Region': '1'}, 'Va.': {'State': '51', 'Division': '5', 'Region': '3'}, 'Wash.': {'State': '53', 'Division': '9', 'Region': '4'}, 'W.V.': {'State': '54', 'Division': '5', 'Region': '3'}, 'Wis.': {'State': '55', 'Division': '3', 'Region': '2'}, 'Wyo.': {'State': '56', 'Division': '8', 'Region': '4'}}\n"
     ]
    }
   ],
   "source": [
    "import csv\n",
    "\n",
    "geocodes = []\n",
    "with open(\"geocodes.csv\", \"r\", newline = \"\") as infile:\n",
    "    csvin = csv.reader(infile)\n",
    "    geoheaders = next(csvin)\n",
    "    for line in csvin:\n",
    "        geocodes.append(line)\n",
    "\n",
    "state = geoheaders.index('State (FIPS)')\n",
    "division = geoheaders.index('Division')\n",
    "region = geoheaders.index('\\ufeffRegion')\n",
    "\n",
    "codedict = {}\n",
    "\n",
    "for statecode in geocodes:\n",
    "    codedict[statecode[state]] = {'StateDivision': statecode[division], 'StateRegion': statecode[region]}\n",
    "\n",
    "\n",
    "for key, value in dictionary.items():\n",
    "    dictionary[key] = {'State': value, 'Division': codedict[value]['StateDivision'], 'Region': codedict[value]['StateRegion']}\n",
    "\n",
    "print(dictionary)\n",
    "#     print(dictionary[key])\n",
    "#     dictionary[key] = {'State': value, 'Division': codedict[value]}\n",
    "    \n"
   ]
  },
  {
   "cell_type": "code",
   "execution_count": null,
   "metadata": {},
   "outputs": [],
   "source": []
  }
 ],
 "metadata": {
  "kernelspec": {
   "display_name": "Python 3",
   "language": "python",
   "name": "python3"
  },
  "language_info": {
   "codemirror_mode": {
    "name": "ipython",
    "version": 3
   },
   "file_extension": ".py",
   "mimetype": "text/x-python",
   "name": "python",
   "nbconvert_exporter": "python",
   "pygments_lexer": "ipython3",
   "version": "3.7.2"
  }
 },
 "nbformat": 4,
 "nbformat_minor": 2
}
